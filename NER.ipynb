{
 "cells": [
  {
   "cell_type": "code",
   "execution_count": 2,
   "id": "e008257e",
   "metadata": {},
   "outputs": [
    {
     "name": "stderr",
     "output_type": "stream",
     "text": [
      "[nltk_data] Downloading package words to C:\\Users\\Gpt\n",
      "[nltk_data]     bilagi\\AppData\\Roaming\\nltk_data...\n",
      "[nltk_data]   Package words is already up-to-date!\n"
     ]
    },
    {
     "data": {
      "text/plain": [
       "True"
      ]
     },
     "execution_count": 2,
     "metadata": {},
     "output_type": "execute_result"
    }
   ],
   "source": [
    "import nltk\n",
    "nltk.download('words')"
   ]
  },
  {
   "cell_type": "code",
   "execution_count": 3,
   "id": "ffbcf531",
   "metadata": {},
   "outputs": [],
   "source": [
    "text=\"\"\"The Board of Control for Cricket in India (BCCI) is the governing body \n",
    "for cricket in India and is under the jurisdiction of Ministry of Youth Affairs\n",
    "and Sports, Government of India. The board was formed in December 1928 as a \n",
    "society, registered under the Tamil Nadu Societies Registration Act. It is a \n",
    "consortium of state cricket associations and the state associations select \n",
    "their representatives who in turn elect the BCCI Chief. Its headquarters are \n",
    "in Wankhede Stadium, Mumbai. Grant Govan was its first president and \n",
    "Anthony De Mello its first secretary.\"\"\""
   ]
  },
  {
   "cell_type": "code",
   "execution_count": 4,
   "id": "5a9d8b55",
   "metadata": {},
   "outputs": [
    {
     "name": "stderr",
     "output_type": "stream",
     "text": [
      "[nltk_data] Downloading package averaged_perceptron_tagger to\n",
      "[nltk_data]     C:\\Users\\Gpt bilagi\\AppData\\Roaming\\nltk_data...\n",
      "[nltk_data]   Package averaged_perceptron_tagger is already up-to-\n",
      "[nltk_data]       date!\n"
     ]
    },
    {
     "data": {
      "text/plain": [
       "True"
      ]
     },
     "execution_count": 4,
     "metadata": {},
     "output_type": "execute_result"
    }
   ],
   "source": [
    "import nltk\n",
    "nltk.download('averaged_perceptron_tagger')"
   ]
  },
  {
   "cell_type": "code",
   "execution_count": 5,
   "id": "472d9102",
   "metadata": {},
   "outputs": [
    {
     "name": "stderr",
     "output_type": "stream",
     "text": [
      "[nltk_data] Downloading package maxent_ne_chunker to C:\\Users\\Gpt\n",
      "[nltk_data]     bilagi\\AppData\\Roaming\\nltk_data...\n",
      "[nltk_data]   Package maxent_ne_chunker is already up-to-date!\n"
     ]
    },
    {
     "data": {
      "text/plain": [
       "True"
      ]
     },
     "execution_count": 5,
     "metadata": {},
     "output_type": "execute_result"
    }
   ],
   "source": [
    "import nltk\n",
    "nltk.download('maxent_ne_chunker')"
   ]
  },
  {
   "cell_type": "code",
   "execution_count": 6,
   "id": "97223783",
   "metadata": {},
   "outputs": [
    {
     "name": "stdout",
     "output_type": "stream",
     "text": [
      "[('The', 'DT'), ('Board', 'NNP'), ('of', 'IN'), ('Control', 'NNP'), ('for', 'IN'), ('Cricket', 'NNP'), ('in', 'IN'), ('India', 'NNP'), ('(', '('), ('BCCI', 'NNP'), (')', ')'), ('is', 'VBZ'), ('the', 'DT'), ('governing', 'VBG'), ('body', 'NN'), ('for', 'IN'), ('cricket', 'NN'), ('in', 'IN'), ('India', 'NNP'), ('and', 'CC'), ('is', 'VBZ'), ('under', 'IN'), ('the', 'DT'), ('jurisdiction', 'NN'), ('of', 'IN'), ('Ministry', 'NNP'), ('of', 'IN'), ('Youth', 'NNP'), ('Affairs', 'NNPS'), ('and', 'CC'), ('Sports', 'NNP'), (',', ','), ('Government', 'NNP'), ('of', 'IN'), ('India', 'NNP'), ('.', '.')] \n",
      "\n",
      "Board : ORGANIZATION\n",
      "Control : ORGANIZATION\n",
      "India : GPE\n",
      "BCCI : ORGANIZATION\n",
      "India : GPE\n",
      "Ministry : ORGANIZATION\n",
      "Youth Affairs : ORGANIZATION\n",
      "Sports : GPE\n",
      "India : GPE\n",
      "\n",
      "\n",
      "[('The', 'DT'), ('board', 'NN'), ('was', 'VBD'), ('formed', 'VBN'), ('in', 'IN'), ('December', 'NNP'), ('1928', 'CD'), ('as', 'IN'), ('a', 'DT'), ('society', 'NN'), (',', ','), ('registered', 'VBN'), ('under', 'IN'), ('the', 'DT'), ('Tamil', 'NNP'), ('Nadu', 'NNP'), ('Societies', 'NNP'), ('Registration', 'NNP'), ('Act', 'NNP'), ('.', '.')] \n",
      "\n",
      "Tamil Nadu : ORGANIZATION\n",
      "\n",
      "\n",
      "[('It', 'PRP'), ('is', 'VBZ'), ('a', 'DT'), ('consortium', 'NN'), ('of', 'IN'), ('state', 'NN'), ('cricket', 'NN'), ('associations', 'NNS'), ('and', 'CC'), ('the', 'DT'), ('state', 'NN'), ('associations', 'NNS'), ('select', 'VBP'), ('their', 'PRP$'), ('representatives', 'NNS'), ('who', 'WP'), ('in', 'IN'), ('turn', 'NN'), ('elect', 'VBP'), ('the', 'DT'), ('BCCI', 'NNP'), ('Chief', 'NNP'), ('.', '.')] \n",
      "\n",
      "BCCI : ORGANIZATION\n",
      "\n",
      "\n",
      "[('Its', 'PRP$'), ('headquarters', 'NNS'), ('are', 'VBP'), ('in', 'IN'), ('Wankhede', 'NNP'), ('Stadium', 'NNP'), (',', ','), ('Mumbai', 'NNP'), ('.', '.')] \n",
      "\n",
      "Wankhede Stadium : GPE\n",
      "Mumbai : GPE\n",
      "\n",
      "\n",
      "[('Grant', 'NNP'), ('Govan', 'NNP'), ('was', 'VBD'), ('its', 'PRP$'), ('first', 'JJ'), ('president', 'NN'), ('and', 'CC'), ('Anthony', 'NNP'), ('De', 'NNP'), ('Mello', 'NNP'), ('its', 'PRP$'), ('first', 'JJ'), ('secretary', 'NN'), ('.', '.')] \n",
      "\n",
      "Grant : PERSON\n",
      "Govan : PERSON\n",
      "Anthony De Mello : PERSON\n",
      "\n",
      "\n"
     ]
    }
   ],
   "source": [
    "for sent in nltk.sent_tokenize(text):\n",
    "    print(nltk.pos_tag(nltk.word_tokenize(sent)),\"\\n\")\n",
    "    for chunk in nltk.ne_chunk(nltk.pos_tag(nltk.word_tokenize(sent))):\n",
    "        if hasattr(chunk,'label'):\n",
    "            entity_name = ' '.join(c[0] for c in chunk)\n",
    "            print(entity_name,\":\",chunk.label())\n",
    "    print(\"\\n\")\n",
    "        "
   ]
  },
  {
   "cell_type": "code",
   "execution_count": null,
   "id": "46eefd91",
   "metadata": {},
   "outputs": [],
   "source": []
  }
 ],
 "metadata": {
  "kernelspec": {
   "display_name": "Python 3 (ipykernel)",
   "language": "python",
   "name": "python3"
  },
  "language_info": {
   "codemirror_mode": {
    "name": "ipython",
    "version": 3
   },
   "file_extension": ".py",
   "mimetype": "text/x-python",
   "name": "python",
   "nbconvert_exporter": "python",
   "pygments_lexer": "ipython3",
   "version": "3.9.13"
  }
 },
 "nbformat": 4,
 "nbformat_minor": 5
}
