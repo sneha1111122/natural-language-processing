{
 "cells": [
  {
   "cell_type": "code",
   "execution_count": 18,
   "metadata": {
    "colab": {},
    "colab_type": "code",
    "id": "Ia4k1WlW3mKo"
   },
   "outputs": [],
   "source": [
    "# Description: This program use Convolutional Neural Networks(CNN)\n",
    "#              classify handwritten digits as number 0-9"
   ]
  },
  {
   "cell_type": "code",
   "execution_count": 19,
   "metadata": {
    "colab": {
     "base_uri": "https://localhost:8080/",
     "height": 80
    },
    "colab_type": "code",
    "executionInfo": {
     "elapsed": 4100,
     "status": "ok",
     "timestamp": 1583863149928,
     "user": {
      "displayName": "CHANDAN PATRA",
      "photoUrl": "https://lh3.googleusercontent.com/a-/AOh14GgztnbuP6iBQWXWO8NjIu-vEwtwRh0udTE34fPm=s64",
      "userId": "08536261493125902972"
     },
     "user_tz": -330
    },
    "id": "RgbWtbM04MNv",
    "outputId": "0f01b3d6-e3e2-4eb3-d0b2-12d877ab2c66"
   },
   "outputs": [],
   "source": [
    "#importing the libraries\n",
    "from keras.models import Sequential\n",
    "from keras.layers import Dense, Conv2D, Flatten, MaxPool2D\n",
    "from keras.datasets import mnist\n",
    "from keras.utils import to_categorical\n",
    "import numpy as np\n",
    "import matplotlib.pyplot as plt"
   ]
  },
  {
   "cell_type": "code",
   "execution_count": 20,
   "metadata": {
    "colab": {
     "base_uri": "https://localhost:8080/",
     "height": 51
    },
    "colab_type": "code",
    "executionInfo": {
     "elapsed": 6856,
     "status": "ok",
     "timestamp": 1583863152695,
     "user": {
      "displayName": "CHANDAN PATRA",
      "photoUrl": "https://lh3.googleusercontent.com/a-/AOh14GgztnbuP6iBQWXWO8NjIu-vEwtwRh0udTE34fPm=s64",
      "userId": "08536261493125902972"
     },
     "user_tz": -330
    },
    "id": "DO-kvPRV4WVF",
    "outputId": "b58b9377-fc94-4086-e3fd-70ae9b2b7caf"
   },
   "outputs": [],
   "source": [
    "#Load the data and split it into train and test \n",
    "(X_train, y_train), (X_test, y_test) = mnist.load_data()"
   ]
  },
  {
   "cell_type": "code",
   "execution_count": 21,
   "metadata": {
    "colab": {
     "base_uri": "https://localhost:8080/",
     "height": 51
    },
    "colab_type": "code",
    "executionInfo": {
     "elapsed": 6835,
     "status": "ok",
     "timestamp": 1583863152699,
     "user": {
      "displayName": "CHANDAN PATRA",
      "photoUrl": "https://lh3.googleusercontent.com/a-/AOh14GgztnbuP6iBQWXWO8NjIu-vEwtwRh0udTE34fPm=s64",
      "userId": "08536261493125902972"
     },
     "user_tz": -330
    },
    "id": "AkKf7oBS5Aa9",
    "outputId": "705584ad-e02f-4c68-f017-21f56226928b"
   },
   "outputs": [
    {
     "name": "stdout",
     "output_type": "stream",
     "text": [
      "(60000, 28, 28)\n",
      "(10000, 28, 28)\n"
     ]
    }
   ],
   "source": [
    "#Get the image shape\n",
    "print(X_train.shape)\n",
    "print(X_test.shape)"
   ]
  },
  {
   "cell_type": "code",
   "execution_count": 22,
   "metadata": {
    "colab": {
     "base_uri": "https://localhost:8080/",
     "height": 282
    },
    "colab_type": "code",
    "executionInfo": {
     "elapsed": 8215,
     "status": "ok",
     "timestamp": 1583863154099,
     "user": {
      "displayName": "CHANDAN PATRA",
      "photoUrl": "https://lh3.googleusercontent.com/a-/AOh14GgztnbuP6iBQWXWO8NjIu-vEwtwRh0udTE34fPm=s64",
      "userId": "08536261493125902972"
     },
     "user_tz": -330
    },
    "id": "XTaLwzMl5jxL",
    "outputId": "059106bb-3041-417b-ebd8-750c2a6da9dc"
   },
   "outputs": [
    {
     "data": {
      "text/plain": [
       "<matplotlib.image.AxesImage at 0x280098cd6a0>"
      ]
     },
     "execution_count": 22,
     "metadata": {},
     "output_type": "execute_result"
    },
    {
     "data": {
      "image/png": "[encoded data removed]",
      "text/plain": [
       "<Figure size 432x288 with 1 Axes>"
      ]
     },
     "metadata": {
      "needs_background": "light"
     },
     "output_type": "display_data"
    }
   ],
   "source": [
    "plt.imshow(X_train[500])"
   ]
  },
  {
   "cell_type": "code",
   "execution_count": 23,
   "metadata": {
    "colab": {},
    "colab_type": "code",
    "id": "Gk8hOnqP6FUg"
   },
   "outputs": [],
   "source": [
    "# Reshaping the data to fit the model\n",
    "X_train = X_train.reshape(60000, 28, 28, 1)\n",
    "X_test = X_test.reshape(10000, 28, 28, 1)"
   ]
  },
  {
   "cell_type": "code",
   "execution_count": 24,
   "metadata": {
    "colab": {
     "base_uri": "https://localhost:8080/",
     "height": 34
    },
    "colab_type": "code",
    "executionInfo": {
     "elapsed": 3418,
     "status": "ok",
     "timestamp": 1583863167349,
     "user": {
      "displayName": "CHANDAN PATRA",
      "photoUrl": "https://lh3.googleusercontent.com/a-/AOh14GgztnbuP6iBQWXWO8NjIu-vEwtwRh0udTE34fPm=s64",
      "userId": "08536261493125902972"
     },
     "user_tz": -330
    },
    "id": "IXWzl77d9Ey5",
    "outputId": "7c2a038b-a77f-4b94-d9d4-a5c7f1a4f4d4"
   },
   "outputs": [
    {
     "name": "stdout",
     "output_type": "stream",
     "text": [
      "[0. 0. 0. 0. 0. 1. 0. 0. 0. 0.]\n"
     ]
    }
   ],
   "source": [
    "# One-Hot Encoding:\n",
    "y_train_one_hot = to_categorical(y_train)\n",
    "y_test_one_hot = to_categorical(y_test)\n",
    "\n",
    "# Print the new label\n",
    "print(y_train_one_hot[0])"
   ]
  },
  {
   "cell_type": "code",
   "execution_count": 25,
   "metadata": {
    "colab": {
     "base_uri": "https://localhost:8080/",
     "height": 173
    },
    "colab_type": "code",
    "executionInfo": {
     "elapsed": 2654,
     "status": "ok",
     "timestamp": 1583863167351,
     "user": {
      "displayName": "CHANDAN PATRA",
      "photoUrl": "https://lh3.googleusercontent.com/a-/AOh14GgztnbuP6iBQWXWO8NjIu-vEwtwRh0udTE34fPm=s64",
      "userId": "08536261493125902972"
     },
     "user_tz": -330
    },
    "id": "KlfHakpJ-KUn",
    "outputId": "d1f2eaed-860d-4350-847e-8839578f0430"
   },
   "outputs": [],
   "source": [
    "# Build the CNN model\n",
    "model = Sequential()\n",
    "# Add model layers\n",
    "model.add(Conv2D(64, kernel_size=3, activation = 'relu', input_shape=(28,28,1)))\n",
    "model.add(Conv2D(32, kernel_size=3, activation='relu'))\n",
    "model.add(MaxPool2D(pool_size=(2, 2), strides=None, padding='valid', data_format=None))\n",
    "model.add(Flatten())\n",
    "model.add(Dense(10,activation='softmax'))"
   ]
  },
  {
   "cell_type": "code",
   "execution_count": 26,
   "metadata": {
    "colab": {
     "base_uri": "https://localhost:8080/",
     "height": 105
    },
    "colab_type": "code",
    "executionInfo": {
     "elapsed": 3604,
     "status": "ok",
     "timestamp": 1583863169223,
     "user": {
      "displayName": "CHANDAN PATRA",
      "photoUrl": "https://lh3.googleusercontent.com/a-/AOh14GgztnbuP6iBQWXWO8NjIu-vEwtwRh0udTE34fPm=s64",
      "userId": "08536261493125902972"
     },
     "user_tz": -330
    },
    "id": "ORQrXRmk_wk8",
    "outputId": "228c4ef2-d486-4fc6-ffc3-6b587a60b520"
   },
   "outputs": [],
   "source": [
    "model.compile(optimizer='adam', loss='categorical_crossentropy', metrics=['accuracy'])"
   ]
  },
  {
   "cell_type": "code",
   "execution_count": null,
   "metadata": {
    "colab": {
     "base_uri": "https://localhost:8080/",
     "height": 717
    },
    "colab_type": "code",
    "executionInfo": {
     "elapsed": 196681,
     "status": "ok",
     "timestamp": 1583863363070,
     "user": {
      "displayName": "CHANDAN PATRA",
      "photoUrl": "https://lh3.googleusercontent.com/a-/AOh14GgztnbuP6iBQWXWO8NjIu-vEwtwRh0udTE34fPm=s64",
      "userId": "08536261493125902972"
     },
     "user_tz": -330
    },
    "id": "_8CFml2X_8GC",
    "outputId": "ce97e6b4-df06-4fc9-a87b-b7bf4b0e7756"
   },
   "outputs": [
    {
     "name": "stdout",
     "output_type": "stream",
     "text": [
      "Epoch 1/10\n",
      "1500/1500 [==============================] - 106s 70ms/step - loss: 0.2872 - accuracy: 0.9458 - val_loss: 0.0801 - val_accuracy: 0.9753\n",
      "Epoch 2/10\n",
      "1500/1500 [==============================] - 86s 57ms/step - loss: 0.0731 - accuracy: 0.9782 - val_loss: 0.0795 - val_accuracy: 0.9778\n",
      "Epoch 3/10\n",
      "1500/1500 [==============================] - 87s 58ms/step - loss: 0.0572 - accuracy: 0.9825 - val_loss: 0.0696 - val_accuracy: 0.9807\n",
      "Epoch 4/10\n",
      "1500/1500 [==============================] - 85s 57ms/step - loss: 0.0459 - accuracy: 0.9856 - val_loss: 0.0701 - val_accuracy: 0.9819\n",
      "Epoch 5/10\n",
      "1500/1500 [==============================] - 94s 63ms/step - loss: 0.0390 - accuracy: 0.9879 - val_loss: 0.0802 - val_accuracy: 0.9802\n",
      "Epoch 6/10\n",
      "1500/1500 [==============================] - 92s 61ms/step - loss: 0.0296 - accuracy: 0.9907 - val_loss: 0.0926 - val_accuracy: 0.9816\n",
      "Epoch 7/10\n",
      " 850/1500 [================>.............] - ETA: 37s - loss: 0.0270 - accuracy: 0.9908"
     ]
    }
   ],
   "source": [
    "#Train the model\n",
    "hist = model.fit(X_train,y_train_one_hot, validation_split = .2, epochs=10)"
   ]
  },
  {
   "cell_type": "code",
   "execution_count": 11,
   "metadata": {},
   "outputs": [
    {
     "name": "stdout",
     "output_type": "stream",
     "text": [
      "313/313 [==============================] - 4s 14ms/step\n"
     ]
    },
    {
     "data": {
      "text/plain": [
       "array([[1.2733564e-17, 1.9527523e-21, 1.6246415e-14, ..., 1.0000000e+00,\n",
       "        1.2678557e-16, 5.5029755e-13],\n",
       "       [2.4695571e-12, 4.5471083e-08, 9.9999976e-01, ..., 1.4109492e-19,\n",
       "        8.1531684e-13, 1.1684810e-22],\n",
       "       [7.1646280e-19, 1.0000000e+00, 1.5146733e-14, ..., 1.6391898e-14,\n",
       "        2.2270796e-12, 1.2706930e-16],\n",
       "       ...,\n",
       "       [6.0497378e-29, 1.6522139e-17, 1.1897521e-21, ..., 1.6293788e-12,\n",
       "        3.9168243e-13, 5.3390707e-17],\n",
       "       [7.0794959e-23, 1.0217512e-24, 1.5287115e-26, ..., 6.5155960e-23,\n",
       "        8.6418415e-16, 5.3673974e-16],\n",
       "       [1.6926196e-19, 3.0127519e-26, 2.8049475e-20, ..., 1.1866107e-29,\n",
       "        1.5742066e-21, 9.2034331e-25]], dtype=float32)"
      ]
     },
     "execution_count": 11,
     "metadata": {},
     "output_type": "execute_result"
    }
   ],
   "source": [
    "y_pred = model.predict(X_test)\n",
    "y_pred"
   ]
  },
  {
   "cell_type": "code",
   "execution_count": 13,
   "metadata": {},
   "outputs": [],
   "source": [
    "from sklearn.metrics import mean_absolute_error, accuracy_score, classification_report, confusion_matrix"
   ]
  },
  {
   "cell_type": "code",
   "execution_count": 5,
   "metadata": {},
   "outputs": [
    {
     "ename": "NameError",
     "evalue": "name 'model' is not defined",
     "output_type": "error",
     "traceback": [
      "\u001b[1;31m---------------------------------------------------------------------------\u001b[0m",
      "\u001b[1;31mNameError\u001b[0m                                 Traceback (most recent call last)",
      "\u001b[1;32m~\\AppData\\Local\\Temp\\ipykernel_7916\\3031623531.py\u001b[0m in \u001b[0;36m<module>\u001b[1;34m\u001b[0m\n\u001b[1;32m----> 1\u001b[1;33m \u001b[0mscore\u001b[0m \u001b[1;33m=\u001b[0m \u001b[0mmodel\u001b[0m\u001b[1;33m.\u001b[0m\u001b[0mmean_absolute_error\u001b[0m\u001b[1;33m(\u001b[0m\u001b[0my_test\u001b[0m\u001b[1;33m,\u001b[0m \u001b[0my_pred\u001b[0m\u001b[1;33m)\u001b[0m\u001b[1;33m\u001b[0m\u001b[1;33m\u001b[0m\u001b[0m\n\u001b[0m\u001b[0;32m      2\u001b[0m \u001b[0mprint\u001b[0m\u001b[1;33m(\u001b[0m\u001b[1;34m'Model Accuracy:'\u001b[0m\u001b[1;33m,\u001b[0m \u001b[0mscore\u001b[0m\u001b[1;33m)\u001b[0m\u001b[1;33m\u001b[0m\u001b[1;33m\u001b[0m\u001b[0m\n",
      "\u001b[1;31mNameError\u001b[0m: name 'model' is not defined"
     ]
    }
   ],
   "source": [
    "score = model.mean_absolute_error(y_test, y_pred)\n",
    "print('Model Accuracy:', score)"
   ]
  },
  {
   "cell_type": "code",
   "execution_count": null,
   "metadata": {},
   "outputs": [],
   "source": []
  }
 ],
 "metadata": {
  "accelerator": "GPU",
  "colab": {
   "authorship_tag": "ABX9TyMyhvtAYIZIpDu3JU+XlN2p",
   "collapsed_sections": [],
   "name": "MNIST_Digit_Recognizer.ipynb",
   "provenance": []
  },
  "kernelspec": {
   "display_name": "Python 3 (ipykernel)",
   "language": "python",
   "name": "python3"
  },
  "language_info": {
   "codemirror_mode": {
    "name": "ipython",
    "version": 3
   },
   "file_extension": ".py",
   "mimetype": "text/x-python",
   "name": "python",
   "nbconvert_exporter": "python",
   "pygments_lexer": "ipython3",
   "version": "3.9.13"
  }
 },
 "nbformat": 4,
 "nbformat_minor": 1
}
